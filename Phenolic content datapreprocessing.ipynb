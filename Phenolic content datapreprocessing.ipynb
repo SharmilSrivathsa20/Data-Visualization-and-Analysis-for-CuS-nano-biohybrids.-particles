{
 "cells": [
  {
   "cell_type": "code",
   "execution_count": 4,
   "metadata": {},
   "outputs": [
    {
     "name": "stdout",
     "output_type": "stream",
     "text": [
      "[2]\n",
      "       A.niger cells-CuS Che NPs  A. niger cells-CuS Bio NPs  \\\n",
      "count                   5.000000                    5.000000   \n",
      "mean                    2.038000                    1.652000   \n",
      "std                     1.025534                    0.823116   \n",
      "min                     1.040000                    0.840000   \n",
      "25%                     1.300000                    1.080000   \n",
      "50%                     1.800000                    1.440000   \n",
      "75%                     2.450000                    2.000000   \n",
      "max                     3.600000                    2.900000   \n",
      "\n",
      "       A. niger cells-CuS Che NBs  A. niger cells-CuS Bio NBs  \n",
      "count                    5.000000                    5.000000  \n",
      "mean                     3.758000                    3.166000  \n",
      "std                      1.769073                    1.571697  \n",
      "min                      2.000000                    1.670000  \n",
      "25%                      2.520000                    2.090000  \n",
      "50%                      3.400000                    2.710000  \n",
      "75%                      4.400000                    3.760000  \n",
      "max                      6.470000                    5.600000  \n"
     ]
    }
   ],
   "source": [
    "import pandas as pd #used for handling data set\n",
    "import numpy as np # used for handling numbers\n",
    "import seaborn as sns\n",
    "import matplotlib.pyplot as plt\n",
    "data=pd.read_csv('phenolic content quantum efficency.csv')\n",
    "\n",
    " # Splitting the attributes into independent and dependent attributes\n",
    "X = data.iloc[:, :3].values # attributes to determine dependent variable / Class\n",
    "Y = data.iloc[:, 3].values # dependent variable / Class\n",
    "from sklearn.impute import SimpleImputer\n",
    "from sklearn.compose import ColumnTransformer\n",
    "from sklearn.preprocessing import OneHotEncoder\n",
    "ct=ColumnTransformer(transformers=[('encoder',OneHotEncoder(),[0])],remainder='passthrough')\n",
    "X=np.array(ct.fit_transform(X))\n",
    "from sklearn.preprocessing import LabelEncoder\n",
    "Lable_Encoder=LabelEncoder()\n",
    "Y=Lable_Encoder.fit_transform(Y)\n",
    "from sklearn.model_selection import train_test_split\n",
    "X_train,X_test,Y_train,Y_test = train_test_split(X,Y,test_size = 0.2,random_state= 1)\n",
    "from sklearn.preprocessing import StandardScaler\n",
    "sc=StandardScaler()\n",
    "# we only aply the feature scaling on the features other than dummy variables.\n",
    "X_train[:,-2:] = sc.fit_transform(X_train[:, -2:])\n",
    "X_test[:,-2:] = sc.fit_transform(X_test[:, -2:])\n",
    "print(Y_test)\n",
    "#Data Analysis\n",
    "print(data.describe())\n",
    "\n",
    "\n"
   ]
  }
 ],
 "metadata": {
  "kernelspec": {
   "display_name": "Python 3",
   "language": "python",
   "name": "python3"
  },
  "language_info": {
   "codemirror_mode": {
    "name": "ipython",
    "version": 3
   },
   "file_extension": ".py",
   "mimetype": "text/x-python",
   "name": "python",
   "nbconvert_exporter": "python",
   "pygments_lexer": "ipython3",
   "version": "3.11.2"
  },
  "orig_nbformat": 4
 },
 "nbformat": 4,
 "nbformat_minor": 2
}
