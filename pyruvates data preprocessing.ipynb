{
 "cells": [
  {
   "cell_type": "code",
   "execution_count": 7,
   "metadata": {},
   "outputs": [
    {
     "name": "stdout",
     "output_type": "stream",
     "text": [
      "       A.niger cells-CuS Che NPs  A.niger cells-CuS Bio NPs  \\\n",
      "count                   5.000000                   5.000000   \n",
      "mean                    0.000320                   0.000282   \n",
      "std                     0.000228                   0.000179   \n",
      "min                     0.000100                   0.000100   \n",
      "25%                     0.000200                   0.000170   \n",
      "50%                     0.000300                   0.000240   \n",
      "75%                     0.000300                   0.000340   \n",
      "max                     0.000700                   0.000560   \n",
      "\n",
      "       A. niger cells-CuS Che NBs  A. niger cells-CuS Bio NBs  \n",
      "count                    5.000000                    5.000000  \n",
      "mean                     0.000382                    0.000324  \n",
      "std                      0.000266                    0.000234  \n",
      "min                      0.000100                    0.000100  \n",
      "25%                      0.000240                    0.000180  \n",
      "50%                      0.000320                    0.000260  \n",
      "75%                      0.000450                    0.000380  \n",
      "max                      0.000800                    0.000700  \n"
     ]
    }
   ],
   "source": [
    "import pandas as pd #used for handling data set\n",
    "import numpy as np # used for handling numbers\n",
    "data=pd.read_csv('pyruvates quantum efficency.csv')\n",
    "\n",
    " # Splitting the attributes into independent and dependent attributes\n",
    "X = data.iloc[:, :-1].values # attributes to determine dependent variable / Class\n",
    "Y = data.iloc[:, -1].values # dependent variable / Class\n",
    "from sklearn.impute import SimpleImputer\n",
    "from sklearn.compose import ColumnTransformer\n",
    "from sklearn.preprocessing import OneHotEncoder\n",
    "ct=ColumnTransformer(transformers=[('encoder',OneHotEncoder(),[0])],remainder='passthrough')\n",
    "X=np.array(ct.fit_transform(X))\n",
    "from sklearn.preprocessing import LabelEncoder\n",
    "Lable_Encoder=LabelEncoder()\n",
    "Y=Lable_Encoder.fit_transform(Y)\n",
    "from sklearn.model_selection import train_test_split\n",
    "X_train,X_test,Y_train,Y_test = train_test_split(X,Y,test_size = 0.2,random_state= 1)\n",
    "from sklearn.preprocessing import StandardScaler\n",
    "sc=StandardScaler()\n",
    "# we only aply the feature scaling on the features other than dummy variables.\n",
    "X_train[:, 3:] = sc.fit_transform(X_train[:, 3:])\n",
    "X_test[:, 3:] = sc.fit_transform(X_test[:, 3:])\n",
    "#Data Visualization\n",
    "import seaborn as sns\n",
    "import matplotlib.pyplot as plt\n",
    "\n",
    "\n",
    "#Data Analysis\n",
    "print(data.describe())\n",
    "\n",
    "\n"
   ]
  }
 ],
 "metadata": {
  "kernelspec": {
   "display_name": "Python 3",
   "language": "python",
   "name": "python3"
  },
  "language_info": {
   "codemirror_mode": {
    "name": "ipython",
    "version": 3
   },
   "file_extension": ".py",
   "mimetype": "text/x-python",
   "name": "python",
   "nbconvert_exporter": "python",
   "pygments_lexer": "ipython3",
   "version": "3.11.2"
  },
  "orig_nbformat": 4
 },
 "nbformat": 4,
 "nbformat_minor": 2
}
