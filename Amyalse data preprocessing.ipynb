{
 "cells": [
  {
   "cell_type": "code",
   "execution_count": 1,
   "metadata": {},
   "outputs": [
    {
     "name": "stdout",
     "output_type": "stream",
     "text": [
      "       A.niger cells-CuS Che NPs  A.niger cells-CuS Bio NPs  \\\n",
      "count                    5.00000                   5.000000   \n",
      "mean                     4.51040                   3.587800   \n",
      "std                      3.13833                   2.378137   \n",
      "min                      1.51800                   1.219000   \n",
      "25%                      2.32400                   1.848000   \n",
      "50%                      4.07000                   3.432000   \n",
      "75%                      5.12000                   4.160000   \n",
      "max                      9.52000                   7.280000   \n",
      "\n",
      "       A. niger cells-CuS Che NBs  A. niger cells-CuS Bio NBs  \n",
      "count                     5.00000                    5.000000  \n",
      "mean                      7.44640                    6.426800  \n",
      "std                       4.93554                    3.810114  \n",
      "min                       2.57400                    2.438000  \n",
      "25%                       3.81800                    3.696000  \n",
      "50%                       6.60000                    5.720000  \n",
      "75%                       9.28000                    8.320000  \n",
      "max                      14.96000                   11.960000  \n"
     ]
    }
   ],
   "source": [
    "import pandas as pd #used for handling data set\n",
    "import numpy as np # used for handling numbers\n",
    "import seaborn as sns\n",
    "import matplotlib.pyplot as plt\n",
    "data=pd.read_csv('amyalse quantum efficency.csv')\n",
    "data.describe().round()\n",
    " # Splitting the attributes into independent and dependent attributes\n",
    "X = data.iloc[:, :-1].values # attributes to determine dependent variable / Class\n",
    "Y = data.iloc[:, -1].values # dependent variable / Class\n",
    "from sklearn.impute import SimpleImputer\n",
    "from sklearn.compose import ColumnTransformer\n",
    "from sklearn.preprocessing import OneHotEncoder\n",
    "ct=ColumnTransformer(transformers=[('encoder',OneHotEncoder(),[0])],remainder='passthrough')\n",
    "X=np.array(ct.fit_transform(X))\n",
    "from sklearn.preprocessing import LabelEncoder\n",
    "Lable_Encoder=LabelEncoder()\n",
    "Y=Lable_Encoder.fit_transform(Y)\n",
    "from sklearn.model_selection import train_test_split\n",
    "X_train,X_test,Y_train,Y_test = train_test_split(X,Y,test_size = 0.2,random_state= 1)\n",
    "from sklearn.preprocessing import StandardScaler\n",
    "sc=StandardScaler()\n",
    "# we only aply the feature scaling on the features other than dummy variables.\n",
    "X_train[:,3:] = sc.fit_transform(X_train[:, 3:])\n",
    "X_test[:,3:] = sc.fit_transform(X_test[:, 3:])\n",
    "\n",
    "#Data Analysis\n",
    "data.describe()\n",
    "print(data.describe())\n",
    "\n"
   ]
  }
 ],
 "metadata": {
  "kernelspec": {
   "display_name": "Python 3",
   "language": "python",
   "name": "python3"
  },
  "language_info": {
   "codemirror_mode": {
    "name": "ipython",
    "version": 3
   },
   "file_extension": ".py",
   "mimetype": "text/x-python",
   "name": "python",
   "nbconvert_exporter": "python",
   "pygments_lexer": "ipython3",
   "version": "3.11.2"
  },
  "orig_nbformat": 4
 },
 "nbformat": 4,
 "nbformat_minor": 2
}
